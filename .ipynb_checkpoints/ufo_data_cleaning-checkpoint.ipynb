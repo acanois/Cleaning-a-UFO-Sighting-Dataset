{
 "cells": [
  {
   "cell_type": "code",
   "execution_count": 1,
   "metadata": {
    "collapsed": true
   },
   "outputs": [],
   "source": [
    "import pandas as pd"
   ]
  },
  {
   "cell_type": "code",
   "execution_count": 2,
   "metadata": {},
   "outputs": [
    {
     "name": "stderr",
     "output_type": "stream",
     "text": [
      "/anaconda/envs/ml/lib/python2.7/site-packages/IPython/core/interactiveshell.py:2717: DtypeWarning: Columns (5,13) have mixed types. Specify dtype option on import or set low_memory=False.\n",
      "  interactivity=interactivity, compiler=compiler, result=result)\n"
     ]
    }
   ],
   "source": [
    "# Importing the csv throws a mixed types warning.\n",
    "# Both of these columns are dropped at In[3], so I left it as is.\n",
    "df = pd.read_csv('data/ufo_unclean.csv')\n",
    "df2 = df.copy() # So we're operating on a copy."
   ]
  },
  {
   "cell_type": "code",
   "execution_count": 3,
   "metadata": {
    "collapsed": true
   },
   "outputs": [],
   "source": [
    "\"\"\"\n",
    "     The following three lines:\n",
    "         1. The duration (hours/min) column is dropped entirely. It causes problems by \n",
    "             mixing types, and its values are redundant and can be inferred from the\n",
    "             duration (seconds) column.\n",
    "         2. Drop any rows that have 'NaN' for the city value. If there is no location data,\n",
    "             then it's unusable. Some of these columns also had their data shifted over by\n",
    "             one cell, and since they made up only about 196 rows of an 8500+ row set, I \n",
    "             decided to just delete them all, rather than try to fix them. \n",
    "         3. Drop the last three columns, because after the previous line, they now only \n",
    "             contain 'NaN' values. The last two columns were originally extraneous anyway.\n",
    "\"\"\"\n",
    "\n",
    "df2 = df2.drop(df.columns[6], axis=1)\n",
    "df2 = df2.dropna(subset=['city'])\n",
    "df2 = df2.dropna(axis=1, how='all')"
   ]
  },
  {
   "cell_type": "code",
   "execution_count": 4,
   "metadata": {
    "collapsed": true
   },
   "outputs": [],
   "source": [
    "# save the cleaned file to a csv \n",
    "df2.to_csv('cleaned_ufo_data.csv', encoding='utf-8')"
   ]
  },
  {
   "cell_type": "code",
   "execution_count": null,
   "metadata": {
    "collapsed": true
   },
   "outputs": [],
   "source": []
  }
 ],
 "metadata": {
  "kernelspec": {
   "display_name": "Python 2",
   "language": "python",
   "name": "python2"
  },
  "language_info": {
   "codemirror_mode": {
    "name": "ipython",
    "version": 2
   },
   "file_extension": ".py",
   "mimetype": "text/x-python",
   "name": "python",
   "nbconvert_exporter": "python",
   "pygments_lexer": "ipython2",
   "version": "2.7.13"
  }
 },
 "nbformat": 4,
 "nbformat_minor": 2
}
